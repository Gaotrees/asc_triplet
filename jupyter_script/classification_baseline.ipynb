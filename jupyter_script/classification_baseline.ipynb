{
 "cells": [
  {
   "cell_type": "markdown",
   "metadata": {},
   "source": [
    "## Baseline of classification\n",
    "Using vggish network as baseline of classification.  \n",
    "train dataset: A (6122)  \n",
    "test  dataset: A (2518)"
   ]
  },
  {
   "cell_type": "code",
   "execution_count": 1,
   "metadata": {},
   "outputs": [],
   "source": [
    "import sys\n",
    "sys.path.append('..')\n",
    "%load_ext autoreload\n",
    "%autoreload 2"
   ]
  },
  {
   "cell_type": "code",
   "execution_count": 2,
   "metadata": {},
   "outputs": [],
   "source": [
    "from experiment import classification_baseline"
   ]
  },
  {
   "cell_type": "code",
   "execution_count": 3,
   "metadata": {},
   "outputs": [],
   "source": [
    "kwargs = {\n",
    "    'device': 2,\n",
    "    'lr': 1e-3,\n",
    "    'n_epochs': 300,\n",
    "    'batch_size': 128,\n",
    "    'log_interval': 30\n",
    "}"
   ]
  },
  {
   "cell_type": "code",
   "execution_count": 4,
   "metadata": {},
   "outputs": [
    {
     "data": {
      "text/plain": [
       "{'batch_size': 128,\n",
       " 'device': 2,\n",
       " 'log_interval': 30,\n",
       " 'lr': 0.001,\n",
       " 'n_epochs': 300}"
      ]
     },
     "execution_count": 4,
     "metadata": {},
     "output_type": "execute_result"
    }
   ],
   "source": [
    "kwargs"
   ]
  },
  {
   "cell_type": "code",
   "execution_count": null,
   "metadata": {},
   "outputs": [
    {
     "name": "stderr",
     "output_type": "stream",
     "text": [
      "10080it [00:00, 226146.73it/s]\n",
      "10080it [00:00, 228954.91it/s]\n",
      "10080it [00:00, 291942.88it/s]"
     ]
    },
    {
     "name": "stdout",
     "output_type": "stream",
     "text": [
      "[LOGGING]: Loading train a of shape:  (6122, 40, 500)\n"
     ]
    },
    {
     "name": "stderr",
     "output_type": "stream",
     "text": [
      "\n"
     ]
    },
    {
     "name": "stdout",
     "output_type": "stream",
     "text": [
      "[LOGGING]: Loading test a of shape:  (2518, 40, 500)\n",
      "Train: [0/6122 (0%)]\tLoss: 2.318276\tAccuracy: 17.96875\n",
      "Train: [3840/6122 (62%)]\tLoss: 1.502954\tAccuracy: 44.203629032258064\n",
      "Epoch: 1/300. Train set: Average loss: 1.3641.\tAccuracy: 50.39202874877491\n",
      "Epoch: 1/300. Validation set: Average loss: 1.2105\tAccuracy: 57.307386814932485\n",
      "Train: [0/6122 (0%)]\tLoss: 1.044006\tAccuracy: 57.03125\n",
      "Train: [3840/6122 (62%)]\tLoss: 0.868041\tAccuracy: 68.29637096774194\n",
      "Epoch: 2/300. Train set: Average loss: 0.8421.\tAccuracy: 69.32375040836328\n",
      "Epoch: 2/300. Validation set: Average loss: 1.1768\tAccuracy: 61.00079428117554\n",
      "Train: [0/6122 (0%)]\tLoss: 0.735753\tAccuracy: 78.125\n",
      "Train: [3840/6122 (62%)]\tLoss: 0.664748\tAccuracy: 75.35282258064517\n",
      "Epoch: 3/300. Train set: Average loss: 0.6397.\tAccuracy: 76.67428944789285\n",
      "Epoch: 3/300. Validation set: Average loss: 1.0883\tAccuracy: 61.39793486894361\n",
      "Train: [0/6122 (0%)]\tLoss: 0.511225\tAccuracy: 79.6875\n",
      "Train: [3840/6122 (62%)]\tLoss: 0.500640\tAccuracy: 82.5100806451613\n",
      "Epoch: 4/300. Train set: Average loss: 0.4786.\tAccuracy: 83.2734400522705\n",
      "Epoch: 4/300. Validation set: Average loss: 1.1727\tAccuracy: 59.57108816521048\n",
      "Train: [0/6122 (0%)]\tLoss: 0.389505\tAccuracy: 85.15625\n",
      "Train: [3840/6122 (62%)]\tLoss: 0.369167\tAccuracy: 87.37399193548387\n",
      "Epoch: 5/300. Train set: Average loss: 0.3629.\tAccuracy: 87.5204181639987\n",
      "Epoch: 5/300. Validation set: Average loss: 1.2629\tAccuracy: 61.040508339952346\n",
      "Train: [0/6122 (0%)]\tLoss: 0.398746\tAccuracy: 85.9375\n",
      "Train: [3840/6122 (62%)]\tLoss: 0.294766\tAccuracy: 90.07056451612904\n",
      "Epoch: 6/300. Train set: Average loss: 0.2960.\tAccuracy: 90.0686050310356\n",
      "Epoch: 6/300. Validation set: Average loss: 1.4611\tAccuracy: 55.99682287529786\n",
      "Train: [0/6122 (0%)]\tLoss: 0.308474\tAccuracy: 91.40625\n",
      "Train: [3840/6122 (62%)]\tLoss: 0.238047\tAccuracy: 92.1875\n",
      "Epoch: 7/300. Train set: Average loss: 0.2358.\tAccuracy: 92.25743221169553\n",
      "Epoch: 7/300. Validation set: Average loss: 1.4857\tAccuracy: 56.94996028594122\n",
      "Train: [0/6122 (0%)]\tLoss: 0.235617\tAccuracy: 90.625\n",
      "Train: [3840/6122 (62%)]\tLoss: 0.179284\tAccuracy: 94.0524193548387\n",
      "Epoch: 8/300. Train set: Average loss: 0.1858.\tAccuracy: 93.82554720679516\n",
      "Epoch: 8/300. Validation set: Average loss: 1.4173\tAccuracy: 63.0659253375695\n",
      "Train: [0/6122 (0%)]\tLoss: 0.213388\tAccuracy: 93.75\n",
      "Train: [3840/6122 (62%)]\tLoss: 0.148808\tAccuracy: 95.26209677419355\n",
      "Epoch: 9/300. Train set: Average loss: 0.1417.\tAccuracy: 95.55700751388436\n",
      "Epoch: 9/300. Validation set: Average loss: 1.6346\tAccuracy: 57.267672756155676\n",
      "Train: [0/6122 (0%)]\tLoss: 0.112535\tAccuracy: 96.09375\n",
      "Train: [3840/6122 (62%)]\tLoss: 0.106877\tAccuracy: 96.9758064516129\n",
      "Epoch: 10/300. Train set: Average loss: 0.1155.\tAccuracy: 96.74942829140804\n",
      "Epoch: 10/300. Validation set: Average loss: 1.7625\tAccuracy: 51.787132644956316\n",
      "Train: [0/6122 (0%)]\tLoss: 0.092907\tAccuracy: 97.65625\n",
      "Train: [3840/6122 (62%)]\tLoss: 0.081335\tAccuracy: 97.60584677419355\n",
      "Epoch: 11/300. Train set: Average loss: 0.0887.\tAccuracy: 97.45181313296308\n",
      "Epoch: 11/300. Validation set: Average loss: 1.5423\tAccuracy: 61.15965051628277\n",
      "Train: [0/6122 (0%)]\tLoss: 0.088668\tAccuracy: 97.65625\n",
      "Train: [3840/6122 (62%)]\tLoss: 0.066325\tAccuracy: 98.36189516129032\n",
      "Epoch: 12/300. Train set: Average loss: 0.0685.\tAccuracy: 98.18686703691604\n",
      "Epoch: 12/300. Validation set: Average loss: 1.5948\tAccuracy: 61.63621922160445\n",
      "Train: [0/6122 (0%)]\tLoss: 0.046302\tAccuracy: 97.65625\n",
      "Train: [3840/6122 (62%)]\tLoss: 0.058348\tAccuracy: 98.41229838709677\n",
      "Epoch: 13/300. Train set: Average loss: 0.0586.\tAccuracy: 98.3828814113035\n",
      "Epoch: 13/300. Validation set: Average loss: 1.6066\tAccuracy: 62.54964257347101\n",
      "Train: [0/6122 (0%)]\tLoss: 0.078694\tAccuracy: 97.65625\n",
      "Train: [3840/6122 (62%)]\tLoss: 0.068641\tAccuracy: 97.88306451612904\n",
      "Epoch: 14/300. Train set: Average loss: 0.0627.\tAccuracy: 98.17053250571709\n",
      "Epoch: 14/300. Validation set: Average loss: 1.5858\tAccuracy: 59.809372517871324\n",
      "Train: [0/6122 (0%)]\tLoss: 0.027996\tAccuracy: 99.21875\n",
      "Train: [3840/6122 (62%)]\tLoss: 0.040072\tAccuracy: 99.19354838709677\n",
      "Epoch: 15/300. Train set: Average loss: 0.0382.\tAccuracy: 99.15060437765436\n",
      "Epoch: 15/300. Validation set: Average loss: 1.6929\tAccuracy: 60.762509928514696\n",
      "Train: [0/6122 (0%)]\tLoss: 0.027038\tAccuracy: 99.21875\n",
      "Train: [3840/6122 (62%)]\tLoss: 0.023291\tAccuracy: 99.74798387096774\n",
      "Epoch: 16/300. Train set: Average loss: 0.0243.\tAccuracy: 99.640640313623\n",
      "Epoch: 16/300. Validation set: Average loss: 1.5916\tAccuracy: 62.867355043685464\n",
      "Train: [0/6122 (0%)]\tLoss: 0.013394\tAccuracy: 100.0\n",
      "Train: [3840/6122 (62%)]\tLoss: 0.033002\tAccuracy: 99.16834677419355\n",
      "Epoch: 17/300. Train set: Average loss: 0.0347.\tAccuracy: 99.1016007840575\n",
      "Epoch: 17/300. Validation set: Average loss: 1.5097\tAccuracy: 67.23590150913424\n",
      "Train: [0/6122 (0%)]\tLoss: 0.038609\tAccuracy: 99.21875\n",
      "Train: [3840/6122 (62%)]\tLoss: 0.026733\tAccuracy: 99.29435483870968\n",
      "Epoch: 18/300. Train set: Average loss: 0.0260.\tAccuracy: 99.29761515844496\n",
      "Epoch: 18/300. Validation set: Average loss: 1.9587\tAccuracy: 59.29308975377283\n",
      "Train: [0/6122 (0%)]\tLoss: 0.027195\tAccuracy: 99.21875\n",
      "Train: [3840/6122 (62%)]\tLoss: 0.030227\tAccuracy: 99.29435483870968\n",
      "Epoch: 19/300. Train set: Average loss: 0.0316.\tAccuracy: 99.19960797125123\n",
      "Epoch: 19/300. Validation set: Average loss: 1.7264\tAccuracy: 62.986497220015885\n",
      "Train: [0/6122 (0%)]\tLoss: 0.013822\tAccuracy: 100.0\n",
      "Train: [3840/6122 (62%)]\tLoss: 0.033710\tAccuracy: 99.09274193548387\n",
      "Epoch: 20/300. Train set: Average loss: 0.0335.\tAccuracy: 99.0689317216596\n",
      "Epoch: 20/300. Validation set: Average loss: 1.5995\tAccuracy: 64.69420174741859\n",
      "Train: [0/6122 (0%)]\tLoss: 0.055504\tAccuracy: 96.875\n",
      "Train: [3840/6122 (62%)]\tLoss: 0.035186\tAccuracy: 98.86592741935483\n",
      "Epoch: 21/300. Train set: Average loss: 0.0316.\tAccuracy: 99.08526625285855\n",
      "Epoch: 21/300. Validation set: Average loss: 1.7424\tAccuracy: 61.83478951548848\n",
      "Train: [0/6122 (0%)]\tLoss: 0.014985\tAccuracy: 100.0\n",
      "Train: [3840/6122 (62%)]\tLoss: 0.031208\tAccuracy: 99.16834677419355\n",
      "Epoch: 22/300. Train set: Average loss: 0.0254.\tAccuracy: 99.42829140803659\n",
      "Epoch: 22/300. Validation set: Average loss: 1.5589\tAccuracy: 65.80619539316918\n",
      "Train: [0/6122 (0%)]\tLoss: 0.003503\tAccuracy: 100.0\n",
      "Train: [3840/6122 (62%)]\tLoss: 0.011225\tAccuracy: 99.84879032258064\n",
      "Epoch: 23/300. Train set: Average loss: 0.0106.\tAccuracy: 99.8529892192094\n",
      "Epoch: 23/300. Validation set: Average loss: 1.6362\tAccuracy: 64.7339158061954\n",
      "Train: [0/6122 (0%)]\tLoss: 0.002578\tAccuracy: 100.0\n",
      "Train: [3840/6122 (62%)]\tLoss: 0.007304\tAccuracy: 99.94959677419355\n",
      "Epoch: 24/300. Train set: Average loss: 0.0069.\tAccuracy: 99.93466187520418\n",
      "Epoch: 24/300. Validation set: Average loss: 1.7404\tAccuracy: 62.35107227958697\n",
      "Train: [0/6122 (0%)]\tLoss: 0.006004\tAccuracy: 100.0\n",
      "Train: [3840/6122 (62%)]\tLoss: 0.009143\tAccuracy: 99.72278225806451\n",
      "Epoch: 25/300. Train set: Average loss: 0.0109.\tAccuracy: 99.72231296961778\n",
      "Epoch: 25/300. Validation set: Average loss: 1.9309\tAccuracy: 60.603653693407466\n",
      "Train: [0/6122 (0%)]\tLoss: 0.002393\tAccuracy: 100.0\n",
      "Train: [3840/6122 (62%)]\tLoss: 0.018449\tAccuracy: 99.6975806451613\n",
      "Epoch: 26/300. Train set: Average loss: 0.0155.\tAccuracy: 99.75498203201568\n",
      "Epoch: 26/300. Validation set: Average loss: 1.7162\tAccuracy: 63.6219221604448\n",
      "Train: [0/6122 (0%)]\tLoss: 0.009094\tAccuracy: 100.0\n",
      "Train: [3840/6122 (62%)]\tLoss: 0.005937\tAccuracy: 99.94959677419355\n",
      "Epoch: 27/300. Train set: Average loss: 0.0053.\tAccuracy: 99.95099640640314\n",
      "Epoch: 27/300. Validation set: Average loss: 1.7681\tAccuracy: 63.502779984114376\n",
      "Train: [0/6122 (0%)]\tLoss: 0.004228\tAccuracy: 100.0\n",
      "Train: [3840/6122 (62%)]\tLoss: 0.002646\tAccuracy: 100.0\n",
      "Epoch: 28/300. Train set: Average loss: 0.0026.\tAccuracy: 100.0\n",
      "Epoch: 28/300. Validation set: Average loss: 1.6075\tAccuracy: 65.40905480540111\n",
      "Train: [0/6122 (0%)]\tLoss: 0.000796\tAccuracy: 100.0\n",
      "Train: [3840/6122 (62%)]\tLoss: 0.001588\tAccuracy: 100.0\n",
      "Epoch: 29/300. Train set: Average loss: 0.0015.\tAccuracy: 100.0\n",
      "Epoch: 29/300. Validation set: Average loss: 1.6791\tAccuracy: 65.3693407466243\n",
      "Train: [0/6122 (0%)]\tLoss: 0.000723\tAccuracy: 100.0\n"
     ]
    }
   ],
   "source": [
    "classification_baseline.classification_baseline_exp(**kwargs)"
   ]
  },
  {
   "cell_type": "code",
   "execution_count": null,
   "metadata": {},
   "outputs": [],
   "source": []
  }
 ],
 "metadata": {
  "kernelspec": {
   "display_name": "python3.6(asc_mt)",
   "language": "python",
   "name": "asc_mt"
  },
  "language_info": {
   "codemirror_mode": {
    "name": "ipython",
    "version": 3
   },
   "file_extension": ".py",
   "mimetype": "text/x-python",
   "name": "python",
   "nbconvert_exporter": "python",
   "pygments_lexer": "ipython3",
   "version": "3.6.2"
  }
 },
 "nbformat": 4,
 "nbformat_minor": 2
}
